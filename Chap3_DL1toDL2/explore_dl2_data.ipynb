{
 "cells": [
  {
   "attachments": {},
   "cell_type": "markdown",
   "id": "outdoor-ridge",
   "metadata": {},
   "source": [
    "## Import necessary packages:"
   ]
  },
  {
   "cell_type": "code",
   "execution_count": 3,
   "id": "smaller-marker",
   "metadata": {},
   "outputs": [],
   "source": [
    "%matplotlib inline\n",
    "from datetime import datetime\n",
    "import pandas as pd\n",
    "import glob\n",
    "import numpy as np\n",
    "import astropy.units as u\n",
    "import matplotlib.pyplot as plt\n",
    "import matplotlib.style as style\n",
    "\n",
    "from lstchain.io.io import dl1_params_lstcam_key, dl2_params_lstcam_key\n",
    "from lstchain.reco.utils import get_effective_time, radec_to_camera\n",
    "from lstchain.reco.utils import compute_theta2, extract_source_position, clip_alt\n",
    "from ctapipe.containers import EventType\n",
    "from ctapipe.coordinates import CameraFrame\n",
    "from astropy.coordinates import AltAz, SkyCoord, EarthLocation\n",
    "from astropy.coordinates import ICRS, Galactic, FK4, FK5\n",
    "from astropy.time import Time\n",
    "from gammapy.stats import WStatCountsStatistic\n",
    "\n",
    "style.use('tableau-colorblind10')\n",
    "plt.rcParams['font.size'] = 20"
   ]
  },
  {
   "attachments": {},
   "cell_type": "markdown",
   "id": "heavy-lunch",
   "metadata": {},
   "source": [
    "## This function gets the source position in camera coordinates for any source"
   ]
  },
  {
   "attachments": {},
   "cell_type": "markdown",
   "id": "unknown-humanitarian",
   "metadata": {},
   "source": [
    "Alternatively you can use lstchain.reco.extract_source_position() just giving the source name (p.e. \"Crab\")"
   ]
  },
  {
   "cell_type": "code",
   "execution_count": 2,
   "id": "saved-suite",
   "metadata": {},
   "outputs": [],
   "source": [
    "def extract_source_position_from_coord(\n",
    "    data, coord, equivalent_focal_length=28 * u.m\n",
    "):\n",
    "    \"\"\"\n",
    "    Extract source position from data\n",
    "    Parameters:\n",
    "    -----------\n",
    "    pandas.DataFrame data: input data\n",
    "    str observed_source_name: Name of the observed source\n",
    "    astropy.units.m equivalent_focal_length: Equivalent focal length of a telescope\n",
    "    Returns:\n",
    "    --------\n",
    "    2D array of coordinates of the source in form [(x),(y)] in astropy.units.m\n",
    "    \"\"\"\n",
    "\n",
    "    obstime = pd.to_datetime(data[\"dragon_time\"], unit=\"s\")\n",
    "    pointing_alt = u.Quantity(data[\"alt_tel\"], u.rad, copy=False)\n",
    "    pointing_az = u.Quantity(data[\"az_tel\"], u.rad, copy=False)\n",
    "    source_pos_camera = radec_to_camera(\n",
    "        coord,\n",
    "        obstime,\n",
    "        pointing_alt,\n",
    "        pointing_az,\n",
    "        focal=equivalent_focal_length,\n",
    "    )\n",
    "    source_position = [source_pos_camera.x, source_pos_camera.y]\n",
    "    return source_position"
   ]
  },
  {
   "attachments": {},
   "cell_type": "markdown",
   "id": "foster-decision",
   "metadata": {},
   "source": [
    "## Choose your input files"
   ]
  },
  {
   "cell_type": "code",
   "execution_count": 2,
   "id": "dangerous-continuity",
   "metadata": {},
   "outputs": [
    {
     "name": "stdout",
     "output_type": "stream",
     "text": [
      "CPU times: user 12.6 s, sys: 9.83 s, total: 22.5 s\n",
      "Wall time: 26.6 s\n"
     ]
    }
   ],
   "source": [
    "#%%time\n",
    "#data=pd.DataFrame()\n",
    "#runs=['09443'] # You can concatenate several runs\n",
    "#for run in runs:\n",
    "#    input_file='/home/kenta.terauchi/Work/lst-analysis//source/GRB220930A/2022_09_30/DL2/dl2_LST-1.Run'+run+'.h5'\n",
    "#    data=pd.concat([data, pd.read_hdf(input_file, key=dl2_params_lstcam_key)])"
   ]
  },
  {
   "cell_type": "code",
   "execution_count": 12,
   "id": "20e72732",
   "metadata": {},
   "outputs": [
    {
     "name": "stdout",
     "output_type": "stream",
     "text": [
      "/fefs/aswg/data/real/DL1/20221105/v0.9/tailcut84/dl1_LST-1.Run10339.h5\n",
      "/fefs/aswg/data/real/DL1/20221105/v0.9/tailcut84/dl1_LST-1.Run10340.h5\n",
      "/fefs/aswg/data/real/DL1/20221105/v0.9/tailcut84/dl1_LST-1.Run10341.h5\n",
      "/fefs/aswg/data/real/DL1/20221105/v0.9/tailcut84/dl1_LST-1.Run10342.h5\n",
      "/fefs/aswg/data/real/DL1/20221105/v0.9/tailcut84/dl1_LST-1.Run10343.h5\n",
      "/fefs/aswg/data/real/DL1/20221105/v0.9/tailcut84/dl1_LST-1.Run10344.h5\n",
      "/fefs/aswg/data/real/DL1/20221105/v0.9/tailcut84/dl1_LST-1.Run10345.h5\n",
      "/fefs/aswg/data/real/DL1/20221105/v0.9/tailcut84/dl1_LST-1.Run10346.h5\n",
      "/fefs/aswg/data/real/DL1/20221105/v0.9/tailcut84/dl1_LST-1.Run10347.h5\n",
      "/fefs/aswg/data/real/DL1/20221105/v0.9/tailcut84/dl1_LST-1.Run10348.h5\n",
      "/fefs/aswg/data/real/DL1/20221105/v0.9/tailcut84/dl1_LST-1.Run10349.h5\n",
      "/fefs/aswg/data/real/DL1/20221105/v0.9/tailcut84/dl1_LST-1.Run10350.h5\n",
      "/fefs/aswg/data/real/DL1/20221105/v0.9/tailcut84/dl1_LST-1.Run10351.h5\n",
      "/fefs/aswg/data/real/DL1/20221105/v0.9/tailcut84/dl1_LST-1.Run10352.h5\n",
      "/fefs/aswg/data/real/DL1/20221105/v0.9/tailcut84/dl1_LST-1.Run10353.h5\n",
      "/fefs/aswg/data/real/DL1/20221105/v0.9/tailcut84/dl1_LST-1.Run10356.h5\n",
      "/fefs/aswg/data/real/DL1/20221105/v0.9/tailcut84/dl1_LST-1.Run10357.h5\n",
      "/fefs/aswg/data/real/DL1/20221105/v0.9/tailcut84/dl1_LST-1.Run10358.h5\n",
      "CPU times: user 20.2 s, sys: 14.4 s, total: 34.6 s\n",
      "Wall time: 39.5 s\n"
     ]
    }
   ],
   "source": [
    "%%time\n",
    "data=pd.DataFrame()\n",
    "#filelist = sorted(glob.glob('/fefs/aswg/workspace/seiya.nozaki/data/GRB221009A/20221105_nsb_tune/DL1_crab/20221105/data/dl1_*Run10345.*.h5'))\n",
    "filelist = sorted(glob.glob('/fefs/aswg/data/real/DL1/20*/v*/tailcut84/dl1_*Run09686.*.h5'))\n",
    "[print(file) for file in filelist]\n",
    "\n",
    "for input_file in filelist:\n",
    "    data=pd.concat([data, pd.read_hdf(input_file, key=dl1_params_lstcam_key)])"
   ]
  },
  {
   "attachments": {},
   "cell_type": "markdown",
   "id": "3a83fe7b",
   "metadata": {},
   "source": [
    "## Take a look at the dataframe"
   ]
  },
  {
   "cell_type": "code",
   "execution_count": 5,
   "id": "01b3ae1c",
   "metadata": {},
   "outputs": [
    {
     "data": {
      "text/html": [
       "<div>\n",
       "<style scoped>\n",
       "    .dataframe tbody tr th:only-of-type {\n",
       "        vertical-align: middle;\n",
       "    }\n",
       "\n",
       "    .dataframe tbody tr th {\n",
       "        vertical-align: top;\n",
       "    }\n",
       "\n",
       "    .dataframe thead th {\n",
       "        text-align: right;\n",
       "    }\n",
       "</style>\n",
       "<table border=\"1\" class=\"dataframe\">\n",
       "  <thead>\n",
       "    <tr style=\"text-align: right;\">\n",
       "      <th></th>\n",
       "      <th>obs_id</th>\n",
       "      <th>event_id</th>\n",
       "      <th>intensity</th>\n",
       "      <th>log_intensity</th>\n",
       "      <th>x</th>\n",
       "      <th>y</th>\n",
       "      <th>r</th>\n",
       "      <th>phi</th>\n",
       "      <th>length</th>\n",
       "      <th>length_uncertainty</th>\n",
       "      <th>...</th>\n",
       "      <th>mc_type</th>\n",
       "      <th>wl</th>\n",
       "      <th>tel_id</th>\n",
       "      <th>tel_pos_x</th>\n",
       "      <th>tel_pos_y</th>\n",
       "      <th>tel_pos_z</th>\n",
       "      <th>trigger_type</th>\n",
       "      <th>ucts_trigger_type</th>\n",
       "      <th>trigger_time</th>\n",
       "      <th>event_type</th>\n",
       "    </tr>\n",
       "  </thead>\n",
       "  <tbody>\n",
       "    <tr>\n",
       "      <th>0</th>\n",
       "      <td>9602</td>\n",
       "      <td>1</td>\n",
       "      <td>19171.743889</td>\n",
       "      <td>4.282662</td>\n",
       "      <td>0.012723</td>\n",
       "      <td>-0.028724</td>\n",
       "      <td>0.031415</td>\n",
       "      <td>-1.153821</td>\n",
       "      <td>1.188668</td>\n",
       "      <td>0.004213</td>\n",
       "      <td>...</td>\n",
       "      <td>-9999</td>\n",
       "      <td>0.923079</td>\n",
       "      <td>1</td>\n",
       "      <td>50.0</td>\n",
       "      <td>50.0</td>\n",
       "      <td>16.0</td>\n",
       "      <td>1</td>\n",
       "      <td>1</td>\n",
       "      <td>1.665436e+09</td>\n",
       "      <td>32</td>\n",
       "    </tr>\n",
       "    <tr>\n",
       "      <th>1</th>\n",
       "      <td>9602</td>\n",
       "      <td>2</td>\n",
       "      <td>113.575157</td>\n",
       "      <td>2.055283</td>\n",
       "      <td>-0.120406</td>\n",
       "      <td>0.008027</td>\n",
       "      <td>0.120674</td>\n",
       "      <td>3.075026</td>\n",
       "      <td>0.066784</td>\n",
       "      <td>0.002729</td>\n",
       "      <td>...</td>\n",
       "      <td>-9999</td>\n",
       "      <td>0.378830</td>\n",
       "      <td>1</td>\n",
       "      <td>50.0</td>\n",
       "      <td>50.0</td>\n",
       "      <td>16.0</td>\n",
       "      <td>1</td>\n",
       "      <td>1</td>\n",
       "      <td>1.665436e+09</td>\n",
       "      <td>32</td>\n",
       "    </tr>\n",
       "    <tr>\n",
       "      <th>2</th>\n",
       "      <td>9602</td>\n",
       "      <td>3</td>\n",
       "      <td>126472.873116</td>\n",
       "      <td>5.101997</td>\n",
       "      <td>0.004735</td>\n",
       "      <td>-0.001892</td>\n",
       "      <td>0.005099</td>\n",
       "      <td>-0.380160</td>\n",
       "      <td>1.170054</td>\n",
       "      <td>0.001639</td>\n",
       "      <td>...</td>\n",
       "      <td>-9999</td>\n",
       "      <td>0.972663</td>\n",
       "      <td>1</td>\n",
       "      <td>50.0</td>\n",
       "      <td>50.0</td>\n",
       "      <td>16.0</td>\n",
       "      <td>5</td>\n",
       "      <td>5</td>\n",
       "      <td>1.665436e+09</td>\n",
       "      <td>0</td>\n",
       "    </tr>\n",
       "    <tr>\n",
       "      <th>3</th>\n",
       "      <td>9602</td>\n",
       "      <td>4</td>\n",
       "      <td>NaN</td>\n",
       "      <td>NaN</td>\n",
       "      <td>NaN</td>\n",
       "      <td>NaN</td>\n",
       "      <td>NaN</td>\n",
       "      <td>NaN</td>\n",
       "      <td>NaN</td>\n",
       "      <td>NaN</td>\n",
       "      <td>...</td>\n",
       "      <td>-9999</td>\n",
       "      <td>NaN</td>\n",
       "      <td>1</td>\n",
       "      <td>50.0</td>\n",
       "      <td>50.0</td>\n",
       "      <td>16.0</td>\n",
       "      <td>1</td>\n",
       "      <td>1</td>\n",
       "      <td>1.665436e+09</td>\n",
       "      <td>32</td>\n",
       "    </tr>\n",
       "    <tr>\n",
       "      <th>4</th>\n",
       "      <td>9602</td>\n",
       "      <td>5</td>\n",
       "      <td>NaN</td>\n",
       "      <td>NaN</td>\n",
       "      <td>NaN</td>\n",
       "      <td>NaN</td>\n",
       "      <td>NaN</td>\n",
       "      <td>NaN</td>\n",
       "      <td>NaN</td>\n",
       "      <td>NaN</td>\n",
       "      <td>...</td>\n",
       "      <td>-9999</td>\n",
       "      <td>NaN</td>\n",
       "      <td>1</td>\n",
       "      <td>50.0</td>\n",
       "      <td>50.0</td>\n",
       "      <td>16.0</td>\n",
       "      <td>1</td>\n",
       "      <td>1</td>\n",
       "      <td>1.665436e+09</td>\n",
       "      <td>32</td>\n",
       "    </tr>\n",
       "    <tr>\n",
       "      <th>...</th>\n",
       "      <td>...</td>\n",
       "      <td>...</td>\n",
       "      <td>...</td>\n",
       "      <td>...</td>\n",
       "      <td>...</td>\n",
       "      <td>...</td>\n",
       "      <td>...</td>\n",
       "      <td>...</td>\n",
       "      <td>...</td>\n",
       "      <td>...</td>\n",
       "      <td>...</td>\n",
       "      <td>...</td>\n",
       "      <td>...</td>\n",
       "      <td>...</td>\n",
       "      <td>...</td>\n",
       "      <td>...</td>\n",
       "      <td>...</td>\n",
       "      <td>...</td>\n",
       "      <td>...</td>\n",
       "      <td>...</td>\n",
       "      <td>...</td>\n",
       "    </tr>\n",
       "    <tr>\n",
       "      <th>2983</th>\n",
       "      <td>9602</td>\n",
       "      <td>2334984</td>\n",
       "      <td>NaN</td>\n",
       "      <td>NaN</td>\n",
       "      <td>NaN</td>\n",
       "      <td>NaN</td>\n",
       "      <td>NaN</td>\n",
       "      <td>NaN</td>\n",
       "      <td>NaN</td>\n",
       "      <td>NaN</td>\n",
       "      <td>...</td>\n",
       "      <td>-9999</td>\n",
       "      <td>NaN</td>\n",
       "      <td>1</td>\n",
       "      <td>50.0</td>\n",
       "      <td>50.0</td>\n",
       "      <td>16.0</td>\n",
       "      <td>32</td>\n",
       "      <td>32</td>\n",
       "      <td>1.665438e+09</td>\n",
       "      <td>2</td>\n",
       "    </tr>\n",
       "    <tr>\n",
       "      <th>2984</th>\n",
       "      <td>9602</td>\n",
       "      <td>2334985</td>\n",
       "      <td>NaN</td>\n",
       "      <td>NaN</td>\n",
       "      <td>NaN</td>\n",
       "      <td>NaN</td>\n",
       "      <td>NaN</td>\n",
       "      <td>NaN</td>\n",
       "      <td>NaN</td>\n",
       "      <td>NaN</td>\n",
       "      <td>...</td>\n",
       "      <td>-9999</td>\n",
       "      <td>NaN</td>\n",
       "      <td>1</td>\n",
       "      <td>50.0</td>\n",
       "      <td>50.0</td>\n",
       "      <td>16.0</td>\n",
       "      <td>1</td>\n",
       "      <td>1</td>\n",
       "      <td>1.665438e+09</td>\n",
       "      <td>32</td>\n",
       "    </tr>\n",
       "    <tr>\n",
       "      <th>2985</th>\n",
       "      <td>9602</td>\n",
       "      <td>2334986</td>\n",
       "      <td>NaN</td>\n",
       "      <td>NaN</td>\n",
       "      <td>NaN</td>\n",
       "      <td>NaN</td>\n",
       "      <td>NaN</td>\n",
       "      <td>NaN</td>\n",
       "      <td>NaN</td>\n",
       "      <td>NaN</td>\n",
       "      <td>...</td>\n",
       "      <td>-9999</td>\n",
       "      <td>NaN</td>\n",
       "      <td>1</td>\n",
       "      <td>50.0</td>\n",
       "      <td>50.0</td>\n",
       "      <td>16.0</td>\n",
       "      <td>1</td>\n",
       "      <td>1</td>\n",
       "      <td>1.665438e+09</td>\n",
       "      <td>32</td>\n",
       "    </tr>\n",
       "    <tr>\n",
       "      <th>2986</th>\n",
       "      <td>9602</td>\n",
       "      <td>2334987</td>\n",
       "      <td>NaN</td>\n",
       "      <td>NaN</td>\n",
       "      <td>NaN</td>\n",
       "      <td>NaN</td>\n",
       "      <td>NaN</td>\n",
       "      <td>NaN</td>\n",
       "      <td>NaN</td>\n",
       "      <td>NaN</td>\n",
       "      <td>...</td>\n",
       "      <td>-9999</td>\n",
       "      <td>NaN</td>\n",
       "      <td>1</td>\n",
       "      <td>50.0</td>\n",
       "      <td>50.0</td>\n",
       "      <td>16.0</td>\n",
       "      <td>1</td>\n",
       "      <td>1</td>\n",
       "      <td>1.665438e+09</td>\n",
       "      <td>32</td>\n",
       "    </tr>\n",
       "    <tr>\n",
       "      <th>2987</th>\n",
       "      <td>9602</td>\n",
       "      <td>2334988</td>\n",
       "      <td>423.395407</td>\n",
       "      <td>2.626746</td>\n",
       "      <td>0.153482</td>\n",
       "      <td>0.470916</td>\n",
       "      <td>0.495297</td>\n",
       "      <td>1.255730</td>\n",
       "      <td>0.153857</td>\n",
       "      <td>0.003554</td>\n",
       "      <td>...</td>\n",
       "      <td>-9999</td>\n",
       "      <td>0.387103</td>\n",
       "      <td>1</td>\n",
       "      <td>50.0</td>\n",
       "      <td>50.0</td>\n",
       "      <td>16.0</td>\n",
       "      <td>1</td>\n",
       "      <td>1</td>\n",
       "      <td>1.665438e+09</td>\n",
       "      <td>32</td>\n",
       "    </tr>\n",
       "  </tbody>\n",
       "</table>\n",
       "<p>2334988 rows × 43 columns</p>\n",
       "</div>"
      ],
      "text/plain": [
       "      obs_id  event_id      intensity  log_intensity         x         y  \\\n",
       "0       9602         1   19171.743889       4.282662  0.012723 -0.028724   \n",
       "1       9602         2     113.575157       2.055283 -0.120406  0.008027   \n",
       "2       9602         3  126472.873116       5.101997  0.004735 -0.001892   \n",
       "3       9602         4            NaN            NaN       NaN       NaN   \n",
       "4       9602         5            NaN            NaN       NaN       NaN   \n",
       "...      ...       ...            ...            ...       ...       ...   \n",
       "2983    9602   2334984            NaN            NaN       NaN       NaN   \n",
       "2984    9602   2334985            NaN            NaN       NaN       NaN   \n",
       "2985    9602   2334986            NaN            NaN       NaN       NaN   \n",
       "2986    9602   2334987            NaN            NaN       NaN       NaN   \n",
       "2987    9602   2334988     423.395407       2.626746  0.153482  0.470916   \n",
       "\n",
       "             r       phi    length  length_uncertainty  ...  mc_type  \\\n",
       "0     0.031415 -1.153821  1.188668            0.004213  ...    -9999   \n",
       "1     0.120674  3.075026  0.066784            0.002729  ...    -9999   \n",
       "2     0.005099 -0.380160  1.170054            0.001639  ...    -9999   \n",
       "3          NaN       NaN       NaN                 NaN  ...    -9999   \n",
       "4          NaN       NaN       NaN                 NaN  ...    -9999   \n",
       "...        ...       ...       ...                 ...  ...      ...   \n",
       "2983       NaN       NaN       NaN                 NaN  ...    -9999   \n",
       "2984       NaN       NaN       NaN                 NaN  ...    -9999   \n",
       "2985       NaN       NaN       NaN                 NaN  ...    -9999   \n",
       "2986       NaN       NaN       NaN                 NaN  ...    -9999   \n",
       "2987  0.495297  1.255730  0.153857            0.003554  ...    -9999   \n",
       "\n",
       "            wl  tel_id  tel_pos_x  tel_pos_y  tel_pos_z  trigger_type  \\\n",
       "0     0.923079       1       50.0       50.0       16.0             1   \n",
       "1     0.378830       1       50.0       50.0       16.0             1   \n",
       "2     0.972663       1       50.0       50.0       16.0             5   \n",
       "3          NaN       1       50.0       50.0       16.0             1   \n",
       "4          NaN       1       50.0       50.0       16.0             1   \n",
       "...        ...     ...        ...        ...        ...           ...   \n",
       "2983       NaN       1       50.0       50.0       16.0            32   \n",
       "2984       NaN       1       50.0       50.0       16.0             1   \n",
       "2985       NaN       1       50.0       50.0       16.0             1   \n",
       "2986       NaN       1       50.0       50.0       16.0             1   \n",
       "2987  0.387103       1       50.0       50.0       16.0             1   \n",
       "\n",
       "      ucts_trigger_type  trigger_time  event_type  \n",
       "0                     1  1.665436e+09          32  \n",
       "1                     1  1.665436e+09          32  \n",
       "2                     5  1.665436e+09           0  \n",
       "3                     1  1.665436e+09          32  \n",
       "4                     1  1.665436e+09          32  \n",
       "...                 ...           ...         ...  \n",
       "2983                 32  1.665438e+09           2  \n",
       "2984                  1  1.665438e+09          32  \n",
       "2985                  1  1.665438e+09          32  \n",
       "2986                  1  1.665438e+09          32  \n",
       "2987                  1  1.665438e+09          32  \n",
       "\n",
       "[2334988 rows x 43 columns]"
      ]
     },
     "execution_count": 5,
     "metadata": {},
     "output_type": "execute_result"
    }
   ],
   "source": [
    "data"
   ]
  },
  {
   "cell_type": "code",
   "execution_count": 6,
   "id": "d8c6998d",
   "metadata": {},
   "outputs": [
    {
     "data": {
      "text/plain": [
       "Index(['obs_id', 'event_id', 'intensity', 'log_intensity', 'x', 'y', 'r',\n",
       "       'phi', 'length', 'length_uncertainty', 'width', 'width_uncertainty',\n",
       "       'psi', 'skewness', 'kurtosis', 'time_gradient', 'intercept',\n",
       "       'leakage_intensity_width_1', 'leakage_intensity_width_2',\n",
       "       'leakage_pixels_width_1', 'leakage_pixels_width_2', 'n_pixels',\n",
       "       'concentration_cog', 'concentration_core', 'concentration_pixel',\n",
       "       'n_islands', 'alt_tel', 'az_tel', 'sin_az_tel', 'calibration_id',\n",
       "       'dragon_time', 'ucts_time', 'tib_time', 'ucts_jump', 'mc_type', 'wl',\n",
       "       'tel_id', 'tel_pos_x', 'tel_pos_y', 'tel_pos_z', 'trigger_type',\n",
       "       'ucts_trigger_type', 'trigger_time', 'event_type', 'delta_t'],\n",
       "      dtype='object')"
      ]
     },
     "execution_count": 6,
     "metadata": {},
     "output_type": "execute_result"
    }
   ],
   "source": [
    "data.keys()"
   ]
  },
  {
   "attachments": {},
   "cell_type": "markdown",
   "id": "9d9633fc",
   "metadata": {},
   "source": [
    "Keys are the same as DL1 plus the reconstructed quantities"
   ]
  },
  {
   "attachments": {},
   "cell_type": "markdown",
   "id": "infinite-demonstration",
   "metadata": {},
   "source": [
    "## Get the observation time and store some useful variables"
   ]
  },
  {
   "cell_type": "code",
   "execution_count": 13,
   "id": "arabic-testing",
   "metadata": {},
   "outputs": [],
   "source": [
    "obstime_real = get_effective_time(data)[0]\n",
    "gammaness = np.array(data.gammaness)\n",
    "leakage_intensity_width_2 = np.array(data.leakage_intensity_width_2)\n",
    "intensity = np.array(data.intensity)\n",
    "alt = np.array(data.alt_tel)\n",
    "zd = 90.0 - np.rad2deg(alt)\n",
    "az = np.array(data.az_tel)\n",
    "wl = np.array(data.wl)\n",
    "event_type = np.array(data.event_type)\n",
    "event_id = np.array(data.event_id)\n",
    "obs_id = np.array(data.obs_id)\n",
    "dragon_time = np.array(data.dragon_time)\n",
    "obstime_real.to(u.min)"
   ]
  },
  {
   "cell_type": "code",
   "execution_count": 14,
   "id": "c18b7938",
   "metadata": {},
   "outputs": [
    {
     "name": "stdout",
     "output_type": "stream",
     "text": [
      "Start obs time : 2022-11-05 23:36:42.390\n",
      "Observation delay : 39499.7 min\n",
      "Zenith (deg): 56.1 -> 27.9\n"
     ]
    },
    {
     "data": {
      "image/png": "[encoded data removed]",
      "text/plain": [
       "<Figure size 1300x1200 with 2 Axes>"
      ]
     },
     "metadata": {},
     "output_type": "display_data"
    }
   ],
   "source": [
    "T0 = Time(\"2022-10-09 13:16:59\", format='iso', scale='utc')\n",
    "#obs_start = datetime.utcfromtimestamp(np.min(data.dragon_time))\n",
    "tstart = Time(np.min(dragon_time), format='unix', scale='utc')\n",
    "delay = tstart - T0\n",
    "\n",
    "print(f'Start obs time : {tstart.utc.iso}')\n",
    "print(f'Observation delay : {delay.to_value(u.min):.1f} min')\n",
    "print(f'Zenith (deg): {zd[0]:.1f} -> {zd[-1]:.1f}')\n",
    "\n",
    "run_start_idx = [0]\n",
    "for idx in range(len(obs_id)-1): \n",
    "    if obs_id[idx] != obs_id[idx+1]:\n",
    "        run_start_idx.append(idx+1)\n",
    "\n",
    "time = (dragon_time - np.min(dragon_time))/60.\n",
    "\n",
    "plt.figure(figsize=(13,12))\n",
    "\n",
    "ax_zd = plt.subplot(211)\n",
    "ax_az = plt.subplot(212, sharex=ax_zd)\n",
    "\n",
    "ax_zd.plot(time, zd, color='crimson', ls='None', marker='.')\n",
    "for i in run_start_idx:\n",
    "    ax_zd.axvline(time[i], ls=\"--\")\n",
    "    ax_zd.text(time[i]+2, np.min(zd), str(obs_id[i]), rotation=\"vertical\", fontsize=\"medium\")\n",
    "ax_zd.set_ylabel('Zenith (deg)')\n",
    "#ax_zd.set_ylim(0, 20)\n",
    "ax_zd.grid()\n",
    "\n",
    "ax_az.plot(time, az, color='crimson', ls='None', marker='.')\n",
    "for i in run_start_idx:\n",
    "    ax_az.axvline(time[i], ls=\"--\")\n",
    "    ax_az.text(time[i]+2, np.min(az), str(obs_id[i]), rotation=\"vertical\", fontsize=\"medium\")\n",
    "plt.xlabel('Time (min)')\n",
    "ax_az.set_ylabel('Azimuth (deg)')\n",
    "#ax_az.grid()\n",
    "\n",
    "plt.show()"
   ]
  },
  {
   "attachments": {},
   "cell_type": "markdown",
   "id": "sized-lesson",
   "metadata": {},
   "source": [
    "## Define some cuts "
   ]
  },
  {
   "cell_type": "code",
   "execution_count": 29,
   "id": "pressing-liechtenstein",
   "metadata": {},
   "outputs": [],
   "source": [
    "gammaness_cut=0.6\n",
    "intensity_cut=100.\n",
    "intensity_cut_high=1.0e15\n",
    "leakage_cut=0.2\n",
    "alt_min=0 * np.pi / 180\n",
    "wl_cut=0.0\n",
    "THETA2_GLOBAL_CUT=0.04\n",
    "theta2_range=(0,1)\n",
    "norm_range_theta2_min=0.2\n",
    "norm_range_theta2_max=0.4"
   ]
  },
  {
   "cell_type": "code",
   "execution_count": 30,
   "id": "opposite-brother",
   "metadata": {},
   "outputs": [],
   "source": [
    "condition = (gammaness > gammaness_cut) \\\n",
    "            & (intensity > intensity_cut) \\\n",
    "            & (intensity < intensity_cut_high) \\\n",
    "            & (alt > alt_min) \\\n",
    "            & (wl > wl_cut) \\\n",
    "            & (event_type == 32)\\\n",
    "            & (leakage_intensity_width_2 < leakage_cut)"
   ]
  },
  {
   "cell_type": "code",
   "execution_count": 31,
   "id": "aboriginal-convenience",
   "metadata": {},
   "outputs": [],
   "source": [
    "selected_data=data[condition] #We apply now the cuts so the calculations will be quicker"
   ]
  },
  {
   "attachments": {},
   "cell_type": "markdown",
   "id": "happy-monaco",
   "metadata": {},
   "source": [
    "## Define the source coordinates"
   ]
  },
  {
   "attachments": {},
   "cell_type": "markdown",
   "id": "a0aca505",
   "metadata": {},
   "source": [
    "#### <font color='red'>Set the correct coordinates!</font> "
   ]
  },
  {
   "cell_type": "code",
   "execution_count": 42,
   "id": "polyphonic-complexity",
   "metadata": {},
   "outputs": [],
   "source": [
    "coordinates = SkyCoord(83.6333333, 22.0123611, frame=ICRS, unit='deg') # Crab"
   ]
  },
  {
   "attachments": {},
   "cell_type": "markdown",
   "id": "planned-fence",
   "metadata": {},
   "source": [
    "## Calculate the source true position "
   ]
  },
  {
   "cell_type": "code",
   "execution_count": 43,
   "id": "compressed-vertical",
   "metadata": {},
   "outputs": [
    {
     "name": "stdout",
     "output_type": "stream",
     "text": [
      "CPU times: user 5min 14s, sys: 1.22 s, total: 5min 15s\n",
      "Wall time: 5min 18s\n"
     ]
    }
   ],
   "source": [
    "%%time\n",
    "true_source_position = extract_source_position_from_coord(selected_data, coordinates)\n",
    "#true_source_position = extract_source_position(selected_data, 'Crab') #If its a catalogued source, like the Crab, you can use this lstchain function\n",
    "off_source_position = [element * -1 for element in true_source_position]"
   ]
  },
  {
   "attachments": {},
   "cell_type": "markdown",
   "id": "usual-physics",
   "metadata": {},
   "source": [
    "## Compute theta2 of the ON and OFF data"
   ]
  },
  {
   "cell_type": "code",
   "execution_count": 13,
   "id": "shaped-exhibit",
   "metadata": {},
   "outputs": [],
   "source": [
    "theta2_on = np.array(compute_theta2(selected_data, true_source_position))\n",
    "theta2_off = np.array(compute_theta2(selected_data, off_source_position))"
   ]
  },
  {
   "attachments": {},
   "cell_type": "markdown",
   "id": "secure-supplier",
   "metadata": {},
   "source": [
    "## Create histograms for theta2 plots"
   ]
  },
  {
   "cell_type": "code",
   "execution_count": 14,
   "id": "vanilla-killer",
   "metadata": {
    "scrolled": true
   },
   "outputs": [],
   "source": [
    "#nbins=100 #Choose your preferred number of bins\n",
    "nbins=round((theta2_range[1]/THETA2_GLOBAL_CUT)*2) # Make the histogram so there are only two bins before the theta2 cut\n",
    "hist_on, bin_edges_on=np.histogram(theta2_on,density=False, bins=nbins, range=theta2_range)\n",
    "hist_off, bin_edges_off=np.histogram(theta2_off, density=False, bins=nbins, range=theta2_range)\n",
    "\n",
    "bin_width=bin_edges_on[1]-bin_edges_off[0]\n",
    "bin_center=bin_edges_on[:-1]+(bin_width/2)"
   ]
  },
  {
   "attachments": {},
   "cell_type": "markdown",
   "id": "forward-anthony",
   "metadata": {},
   "source": [
    "## Calculate the Li&Ma significance"
   ]
  },
  {
   "cell_type": "code",
   "execution_count": 15,
   "id": "lyric-desperate",
   "metadata": {},
   "outputs": [],
   "source": [
    "N_on = np.sum(hist_on[bin_edges_on[1:]<=THETA2_GLOBAL_CUT])\n",
    "N_off = np.sum(hist_off[bin_edges_off[1:]<=THETA2_GLOBAL_CUT])\n",
    "\n",
    "idx_min = (np.abs(bin_edges_on - norm_range_theta2_min)).argmin()\n",
    "idx_max = (np.abs(bin_edges_on - norm_range_theta2_max)).argmin()\n",
    "\n",
    "Non_norm = np.sum(hist_on[idx_min:idx_max])\n",
    "Noff_norm = np.sum(hist_off[idx_min:idx_max])\n",
    "\n",
    "alpha = Noff_norm / Non_norm\n",
    "\n",
    "stat = WStatCountsStatistic(n_on=N_on, n_off=N_off, alpha=alpha)\n",
    "significance_lima = stat.sqrt_ts\n",
    "\n",
    "textstr = r'N$_{{\\rm on}}$ = {:.0f} '\\\n",
    "            f'\\n'\\\n",
    "            r'N$_{{\\rm off}}$ = {:.0f} '\\\n",
    "            f'\\n'\\\n",
    "            r'Time = {:.1f}'\\\n",
    "            f'\\n'\\\n",
    "            r'LiMa Significance = {:.1f} $\\sigma$ '.format(N_on,\n",
    "                                                      N_off,\n",
    "                                                      obstime_real.to(u.h),\n",
    "                                                      significance_lima)\n",
    "\n",
    "props = dict(boxstyle='round', facecolor='lightpink', alpha=0.85)"
   ]
  },
  {
   "attachments": {},
   "cell_type": "markdown",
   "id": "tired-ottawa",
   "metadata": {},
   "source": [
    "## Plot Theta2"
   ]
  },
  {
   "cell_type": "code",
   "execution_count": null,
   "id": "stopped-sigma",
   "metadata": {},
   "outputs": [],
   "source": [
    "fig, ax = plt.subplots(figsize=(12, 8))\n",
    "\n",
    "ax.errorbar(bin_center, hist_on, xerr=bin_width/2.0, yerr=np.sqrt(hist_on), \n",
    "            fmt='o', label='ON data', ms=10, color='crimson', lw=2.5)\n",
    "ax.errorbar(bin_center, hist_off, xerr=bin_width/2.0, yerr=np.sqrt(hist_off),\n",
    "            label='Background', ms=10, color='darkcyan', drawstyle='steps-mid')\n",
    "ax.set_xlim(0, 0.5)\n",
    "#ax.set_ylim(6750, 7850)\n",
    "ax.grid(ls='dashed')\n",
    "ax.axvline(THETA2_GLOBAL_CUT, color='black',ls='--',alpha=0.75)\n",
    "ax.set_xlabel(\"$\\\\theta^{2} [deg^{2}]$\")\n",
    "ax.set_ylabel(\"Counts\")\n",
    "#ax.legend(bbox_to_anchor=(0.99, 0.8))\n",
    "ax.legend(loc='lower right')\n",
    "ax.set_title(\"GRB220311A: Run 7414-7423 \\n (intensity > 50; gammaness > 0.7)\")\n",
    " \n",
    "txt = ax.text(0.60, 0.97, textstr, transform=ax.transAxes, fontsize=20,\n",
    "        verticalalignment='top', bbox=props)\n",
    "\n",
    "plt.show()"
   ]
  },
  {
   "attachments": {},
   "cell_type": "markdown",
   "id": "skilled-attitude",
   "metadata": {},
   "source": [
    "## Plot excess counts"
   ]
  },
  {
   "cell_type": "code",
   "execution_count": 87,
   "id": "second-consideration",
   "metadata": {},
   "outputs": [],
   "source": [
    "excess=hist_on-hist_off\n",
    "excess_err=np.sqrt(np.sqrt(excess**2))"
   ]
  },
  {
   "cell_type": "code",
   "execution_count": null,
   "id": "mechanical-norwegian",
   "metadata": {},
   "outputs": [],
   "source": [
    "fig, ax = plt.subplots(figsize=(12, 8))\n",
    "\n",
    "ax.errorbar(bin_center, excess, yerr=excess_err,fmt='o',color='forestgreen',label='Excess counts')\n",
    "ax.bar(bin_edges_on[:-1], excess, width = bin_width, align='edge', color='limegreen',alpha=0.5)\n",
    "ax.axhline(0, color='darkgray')\n",
    "ax.set_xlim(0,0.5)\n",
    "ax.grid()\n",
    "ax.axvline(THETA2_GLOBAL_CUT, color='black', ls='--', alpha=0.75)\n",
    "ax.grid(ls='dashed')\n",
    "ax.set_xlabel(\"$\\\\theta^{2} [deg^{2}]$\")\n",
    "ax.set_ylabel(\"Counts\")\n",
    "ax.legend(title=f'Significance = {significance_lima:.1f} $\\sigma$')"
   ]
  },
  {
   "attachments": {},
   "cell_type": "markdown",
   "id": "86bfa438",
   "metadata": {},
   "source": [
    "# We can make theta2 plots for different bins in energy"
   ]
  },
  {
   "attachments": {},
   "cell_type": "markdown",
   "id": "718e7e80",
   "metadata": {},
   "source": [
    "## Define the energy binning"
   ]
  },
  {
   "cell_type": "code",
   "execution_count": 18,
   "id": "2cda29d5",
   "metadata": {},
   "outputs": [],
   "source": [
    "log_reco_energy = np.array(selected_data.log_reco_energy)\n",
    "emin=0.01 * u.TeV\n",
    "emax=10 * u.TeV\n",
    "n_bins_energy=3\n",
    "log_energy = np.linspace(np.log10(emin.to_value()),\n",
    "                         np.log10(emax.to_value()),\n",
    "                         n_bins_energy + 1)"
   ]
  },
  {
   "attachments": {},
   "cell_type": "markdown",
   "id": "f1935cbf",
   "metadata": {},
   "source": [
    "## Now calculate the significante and produce a theta2 plot for each energy bin"
   ]
  },
  {
   "cell_type": "code",
   "execution_count": null,
   "id": "e8242e86",
   "metadata": {},
   "outputs": [],
   "source": [
    "for i in range(n_bins_energy):\n",
    "    condition_energy_bin= (log_reco_energy < log_energy[i+1]) \\\n",
    "        & (log_reco_energy >= log_energy[i])\n",
    "    data_bin=selected_data[condition_energy_bin]\n",
    "    theta2_on = np.array(compute_theta2(data_bin, (true_source_position[0][condition_energy_bin], true_source_position[1][condition_energy_bin])))\n",
    "    theta2_off = np.array(compute_theta2(data_bin, (off_source_position[0][condition_energy_bin], off_source_position[1][condition_energy_bin])))\n",
    "    \n",
    "    hist_on, bin_edges_on=np.histogram(theta2_on,density=False, bins=nbins, range=theta2_range)\n",
    "    hist_off, bin_edges_off=np.histogram(theta2_off, density=False, bins=nbins, range=theta2_range)\n",
    "\n",
    "    bin_width=bin_edges_on[1]-bin_edges_off[0]\n",
    "    bin_center=bin_edges_on[:-1]+(bin_width/2)\n",
    "    N_on = np.sum(hist_on[bin_edges_on[1:]<=THETA2_GLOBAL_CUT])\n",
    "    N_off = np.sum(hist_off[bin_edges_off[1:]<=THETA2_GLOBAL_CUT])\n",
    "\n",
    "    idx_min = (np.abs(bin_edges_on - norm_range_theta2_min)).argmin()\n",
    "    idx_max = (np.abs(bin_edges_on - norm_range_theta2_max)).argmin()\n",
    "\n",
    "    Non_norm = np.sum(hist_on[idx_min:idx_max])\n",
    "    Noff_norm = np.sum(hist_off[idx_min:idx_max])\n",
    "\n",
    "    alpha = Noff_norm / Non_norm\n",
    "\n",
    "    stat = WStatCountsStatistic(n_on=N_on, n_off=N_off, alpha=alpha)\n",
    "    significance_lima = stat.sqrt_ts\n",
    "\n",
    "    textstr = r'N$_{{\\rm on}}$ = {:.0f} '\\\n",
    "            f'\\n'\\\n",
    "            r'N$_{{\\rm off}}$ = {:.0f} '\\\n",
    "            f'\\n'\\\n",
    "            r'Time = {:.1f}'\\\n",
    "            f'\\n'\\\n",
    "            r'LiMa Significance = {:.1f} $\\sigma$ '.format(N_on,\n",
    "                                                      N_off,\n",
    "                                                      obstime_real.to(u.h),\n",
    "                                                      significance_lima)\n",
    "\n",
    "    props = dict(boxstyle='round', facecolor='wheat', alpha=0.95)\n",
    "    \n",
    "    fig, ax = plt.subplots(figsize=(12, 10))\n",
    "\n",
    "    ax.errorbar(bin_center, hist_on, yerr=np.sqrt(hist_on), fmt='o', label='ON data', ms=10, color='crimson')\n",
    "    ax.errorbar(bin_center, hist_off, yerr=np.sqrt(hist_off),fmt='s',label='Background', ms=10, color='cornflowerblue')\n",
    "    ax.set_xlim(0, 0.5)\n",
    "    ax.grid(ls='dashed')\n",
    "    ax.axvline(THETA2_GLOBAL_CUT, color='black',ls='--',alpha=0.75)\n",
    "    ax.set_xlabel(\"$\\\\theta^{2} [deg^{2}]$\")\n",
    "    ax.set_ylabel(\"Counts\")\n",
    "    ax.legend(bbox_to_anchor=(0.99, 0.8))\n",
    "    ax.set_title(r'{:.2f} TeV to {:.2f} TeV'.format(10**log_energy[i], 10**log_energy[i+1]))\n",
    "\n",
    "\n",
    "    txt = ax.text(0.57, 0.98, textstr, transform=ax.transAxes, fontsize=20,\n",
    "        verticalalignment='top', bbox=props)"
   ]
  },
  {
   "attachments": {},
   "cell_type": "markdown",
   "id": "electoral-substitute",
   "metadata": {},
   "source": [
    "## Plot the position of the selected events"
   ]
  },
  {
   "attachments": {},
   "cell_type": "markdown",
   "id": "featured-siemens",
   "metadata": {},
   "source": [
    "### In camera coordinates"
   ]
  },
  {
   "cell_type": "code",
   "execution_count": 47,
   "id": "arbitrary-karma",
   "metadata": {},
   "outputs": [
    {
     "data": {
      "image/png": "[encoded data removed]",
      "text/plain": [
       "<Figure size 720x576 with 2 Axes>"
      ]
     },
     "metadata": {
      "needs_background": "light"
     },
     "output_type": "display_data"
    }
   ],
   "source": [
    "fig, ax = plt.subplots(figsize=(10, 8))\n",
    "\n",
    "skymap=ax.hist2d(selected_data['reco_src_x'], \n",
    "           selected_data['reco_src_y'], bins=50, \n",
    "           range=[(-1,1), (-1,1)])\n",
    "#ax.scatter(true_source_position[0], true_source_position[1], c='red', marker='*')\n",
    "#ax.scatter(off_source_position[0], off_source_position[1], c='black', marker='*')\n",
    "\n",
    "fig.colorbar(skymap[3], ax=ax)\n",
    "ax.set_xlabel(\"x (m)\")\n",
    "ax.set_ylabel(\"y (m)\")\n",
    "plt.show()"
   ]
  },
  {
   "attachments": {},
   "cell_type": "markdown",
   "id": "700caf5a",
   "metadata": {},
   "source": [
    "You can see the wobble positions if you use one more than one run"
   ]
  },
  {
   "attachments": {},
   "cell_type": "markdown",
   "id": "friendly-mambo",
   "metadata": {},
   "source": [
    "### In Sky coordinates"
   ]
  },
  {
   "cell_type": "code",
   "execution_count": 17,
   "id": "italian-basics",
   "metadata": {},
   "outputs": [],
   "source": [
    "location = EarthLocation.from_geodetic(-17.89139 * u.deg, 28.76139 * u.deg, 2184 * u.m) #Location of LST1\n",
    "obstime = pd.to_datetime(selected_data[\"dragon_time\"], unit=\"s\")\n",
    "horizon_frame = AltAz(location=location, obstime=obstime)"
   ]
  },
  {
   "cell_type": "code",
   "execution_count": 18,
   "id": "explicit-recorder",
   "metadata": {},
   "outputs": [
    {
     "name": "stdout",
     "output_type": "stream",
     "text": [
      "CPU times: user 1min 28s, sys: 1.61 s, total: 1min 29s\n",
      "Wall time: 1min 29s\n"
     ]
    }
   ],
   "source": [
    "%%time\n",
    "pointing_alt = u.Quantity(selected_data[\"alt_tel\"], u.rad, copy=False)\n",
    "pointing_az = u.Quantity(selected_data[\"az_tel\"], u.rad, copy=False)\n",
    "pointing_direction=SkyCoord(alt=clip_alt(pointing_alt), az=pointing_az, frame=horizon_frame)\n",
    "camera_frame = CameraFrame(focal_length=28 * u.m,\n",
    "                           telescope_pointing=pointing_direction,\n",
    "                           obstime=obstime,\n",
    "                           location=location)  "
   ]
  },
  {
   "cell_type": "code",
   "execution_count": 19,
   "id": "civil-baking",
   "metadata": {},
   "outputs": [],
   "source": [
    "camera_coords = SkyCoord(x=selected_data['reco_src_x'], y=selected_data['reco_src_y'], frame=camera_frame, unit=(u.m, u.m))"
   ]
  },
  {
   "cell_type": "code",
   "execution_count": 20,
   "id": "assumed-visibility",
   "metadata": {},
   "outputs": [],
   "source": [
    "radec_coords=camera_coords.transform_to(frame=ICRS)"
   ]
  },
  {
   "cell_type": "code",
   "execution_count": 21,
   "id": "horizontal-asbestos",
   "metadata": {
    "scrolled": false
   },
   "outputs": [
    {
     "data": {
      "text/plain": [
       "Text(0.5, 1.0, '(intensity > 50; gammaness > 0.7)')"
      ]
     },
     "execution_count": 21,
     "metadata": {},
     "output_type": "execute_result"
    },
    {
     "data": {
      "image/png": "[encoded data removed]",
      "text/plain": [
       "<Figure size 864x720 with 2 Axes>"
      ]
     },
     "metadata": {
      "needs_background": "light"
     },
     "output_type": "display_data"
    }
   ],
   "source": [
    "fig, ax = plt.subplots(figsize=(12, 10))\n",
    "\n",
    "h = radec_skymap=plt.hist2d(radec_coords.ra.to_value(u.hourangle), radec_coords.dec.value, \n",
    "                            range=[(coordinates.ra.to_value(u.hourangle)-0.03, coordinates.ra.to_value(u.hourangle)+0.03),\n",
    "                                   (coordinates.dec.value-0.5, coordinates.dec.value+0.5)],\n",
    "                            bins=50, cmap='cividis'\n",
    "                            )\n",
    "ax.plot(coordinates.ra.to_value(u.hourangle), coordinates.dec.value, marker='*', \n",
    "        color='snow', markersize=30)\n",
    "ax.text(coordinates.ra.to_value(u.hourangle)+5.0e-4, coordinates.dec.value+0.05, 'GRB220311A', color='snow', fontsize=20, fontweight='bold')\n",
    "fig.colorbar(h[3], ax=ax)\n",
    "ax.grid(color='white')\n",
    "ax.set_xlabel(\"Right Ascension (h)\")\n",
    "ax.set_ylabel(\"Declination (deg)\")\n",
    "ax.set_title('(intensity > 50; gammaness > 0.7)')"
   ]
  },
  {
   "cell_type": "code",
   "execution_count": null,
   "id": "05805c51",
   "metadata": {},
   "outputs": [],
   "source": []
  }
 ],
 "metadata": {
  "kernelspec": {
   "display_name": "Python 3.8.13 ('lst-v0.9.10')",
   "language": "python",
   "name": "python3"
  },
  "language_info": {
   "codemirror_mode": {
    "name": "ipython",
    "version": 3
   },
   "file_extension": ".py",
   "mimetype": "text/x-python",
   "name": "python",
   "nbconvert_exporter": "python",
   "pygments_lexer": "ipython3",
   "version": "3.8.13 | packaged by conda-forge | (default, Mar 25 2022, 06:04:10) \n[GCC 10.3.0]"
  },
  "vscode": {
   "interpreter": {
    "hash": "1074ab25c996f2a5b8d74c99e8a278e5605cff9e199d031a1117955378f44c23"
   }
  }
 },
 "nbformat": 4,
 "nbformat_minor": 5
}
