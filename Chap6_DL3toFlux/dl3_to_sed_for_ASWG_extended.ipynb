{
 "cells": [
  {
   "cell_type": "markdown",
   "id": "36cf9a6d",
   "metadata": {},
   "source": [
    "# Import modules"
   ]
  },
  {
   "cell_type": "code",
   "execution_count": null,
   "id": "43168a88",
   "metadata": {},
   "outputs": [],
   "source": [
    "%matplotlib inline\n",
    "import matplotlib.pyplot as plt\n",
    "from matplotlib import rcdefaults\n",
    "from matplotlib.gridspec import GridSpec\n",
    "from cycler import cycler\n",
    "\n",
    "import numpy as np\n",
    "from regions import CircleSkyRegion, PointSkyRegion\n",
    "from pathlib import Path\n",
    "import os\n",
    "import operator\n",
    "import pickle\n",
    "import mplhep as hep\n",
    "from gammapy.stats import WStatCountsStatistic"
   ]
  },
  {
   "cell_type": "code",
   "execution_count": null,
   "id": "b2cf0d5f",
   "metadata": {},
   "outputs": [],
   "source": [
    "from gammapy.data import DataStore\n",
    "from gammapy.datasets import (\n",
    "    Datasets,\n",
    "    FluxPointsDataset,\n",
    "    SpectrumDataset,\n",
    "    SpectrumDatasetOnOff,\n",
    ")\n",
    "from gammapy.estimators import FluxPointsEstimator, LightCurveEstimator, FluxPoints\n",
    "from gammapy.makers import (\n",
    "    ReflectedRegionsBackgroundMaker,\n",
    "    SafeMaskMaker,\n",
    "    SpectrumDatasetMaker,\n",
    "    WobbleRegionsFinder,\n",
    ")\n",
    "from gammapy.maps import MapAxis, RegionGeom, WcsGeom\n",
    "from gammapy.maps import TimeMapAxis\n",
    "TimeMapAxis.time_format = \"mjd\"\n",
    "\n",
    "from gammapy.modeling import Fit\n",
    "from gammapy.modeling.models import (\n",
    "    PowerLawSpectralModel,\n",
    "    LogParabolaSpectralModel,\n",
    "    ExpCutoffPowerLawSpectralModel,\n",
    "    CompoundSpectralModel,\n",
    "    BrokenPowerLawSpectralModel,\n",
    "    SmoothBrokenPowerLawSpectralModel,\n",
    "    EBLAbsorptionNormSpectralModel,\n",
    "    create_crab_spectral_model,\n",
    "    SkyModel,\n",
    ")\n",
    "from gammapy.visualization import plot_spectrum_datasets_off_regions\n",
    "\n",
    "from astropy.io import fits\n",
    "from astropy.coordinates import SkyCoord\n",
    "from astropy.table import Table, QTable\n",
    "from astropy.time import Time\n",
    "import astropy.units as u\n",
    "\n",
    "from scipy.stats import chi2, norm"
   ]
  },
  {
   "cell_type": "markdown",
   "id": "741a4fff",
   "metadata": {},
   "source": [
    "# Load the data"
   ]
  },
  {
   "cell_type": "code",
   "execution_count": null,
   "id": "7b705600",
   "metadata": {},
   "outputs": [],
   "source": [
    "dir_path = \"path/to/dl3/dir\""
   ]
  },
  {
   "cell_type": "code",
   "execution_count": null,
   "id": "f5d5eb7f",
   "metadata": {},
   "outputs": [],
   "source": [
    "total_datastore = DataStore.from_dir(dir_path)\n",
    "\n",
    "#ogip_path = Path(dir_path + 'OGIP/')\n",
    "plot_path = Path(dir_path + \"plots/\")\n",
    "plot_dataset_path = Path(dir_path + 'plots/datasets/')\n",
    "\n",
    "# Create the Paths if they do not exist already\n",
    "#ogip_path.mkdir(exist_ok=True)\n",
    "plot_path.mkdir(exist_ok=True)\n",
    "plot_dataset_path.mkdir(exist_ok=True)"
   ]
  },
  {
   "cell_type": "code",
   "execution_count": null,
   "id": "a7244ecd",
   "metadata": {},
   "outputs": [],
   "source": [
    "total_obs_list = total_datastore.obs_table[\"OBS_ID\"].data\n",
    "observations_total = total_datastore.get_observations(\n",
    "    total_obs_list, \n",
    "    required_irf=[\"aeff\", \"edisp\", \"rad_max\"], # By default, \"all\" = [\"aeff\", \"edisp\", \"bkg\", \"psf\"]. \n",
    "                        # If not all IRFs are present, the entry will be skipped \n",
    "    skip_missing=False # Skip missing observations, within the list provided earlier\n",
    ")"
   ]
  },
  {
   "cell_type": "markdown",
   "id": "6d199008",
   "metadata": {},
   "source": [
    "# Checking the DL3 cut distribution"
   ]
  },
  {
   "cell_type": "code",
   "execution_count": null,
   "id": "a0bf4dea",
   "metadata": {},
   "outputs": [],
   "source": [
    "ax = observations_wob[0].rad_max.plot_rad_max_vs_energy()\n",
    "plt.grid()\n",
    "\n",
    "for o in observations_wob:\n",
    "    o.rad_max.plot_rad_max_vs_energy()\n",
    "ax.legend().remove()\n",
    "ax.set_ylim(0.1, 0.4)\n",
    "ax.yaxis.set_major_formatter(\"{x:.2f}\")"
   ]
  },
  {
   "cell_type": "markdown",
   "id": "5bb930b9",
   "metadata": {},
   "source": [
    "# Define target position"
   ]
  },
  {
   "cell_type": "code",
   "execution_count": null,
   "id": "c39a58a2",
   "metadata": {},
   "outputs": [],
   "source": [
    "target_position = SkyCoord.from_name(obj_name, frame='icrs')"
   ]
  },
  {
   "cell_type": "markdown",
   "id": "04084aea",
   "metadata": {},
   "source": [
    "# Enegy ranges"
   ]
  },
  {
   "cell_type": "code",
   "execution_count": null,
   "id": "0d77a79c",
   "metadata": {},
   "outputs": [],
   "source": [
    "e_reco_min = 0.01\n",
    "e_fit_min = 0.04\n",
    "e_reco_max = 100\n",
    "e_fit_max = 10\n",
    "\n",
    "e_true_min = 0.01\n",
    "e_true_max = 100\n",
    "\n",
    "# Using bins per decade\n",
    "e_fit_bin_p_dec = e_reco_bin_p_dec = 5\n",
    "e_true_bin_p_dec = 5\n",
    "\n",
    "energy_fit_edges = MapAxis.from_energy_bounds(\n",
    "    e_fit_min, e_fit_max, \n",
    "    nbin=e_fit_bin_p_dec, per_decade=True, \n",
    "    unit=\"TeV\"\n",
    ").edges\n",
    "\n",
    "energy_axis = MapAxis.from_energy_bounds(\n",
    "    e_reco_min, e_reco_max, \n",
    "    nbin=e_reco_bin_p_dec, per_decade=True, \n",
    "    unit=\"TeV\", name=\"energy\"\n",
    ")\n",
    "energy_axis_true = MapAxis.from_energy_bounds(\n",
    "    e_true_min, e_true_max, \n",
    "    nbin=e_true_bin_p_dec, per_decade=True, \n",
    "    unit=\"TeV\", name=\"energy_true\"\n",
    ")\n",
    "\n",
    "# Select minimum and maximum energy edges for LC estimation, from the energy_axis to be used un the Dataset\n",
    "e_lc_min = 100*u.GeV\n",
    "e_lc_max = energy_axis.edges[-1]\n",
    "\n",
    "print(energy_axis.edges)\n",
    "print(energy_fit_edges)\n",
    "print(e_lc_min, e_lc_max)"
   ]
  },
  {
   "cell_type": "markdown",
   "id": "8e7e4557",
   "metadata": {},
   "source": [
    "# Creating time intervals for plotting Light Curves"
   ]
  },
  {
   "cell_type": "code",
   "execution_count": null,
   "id": "70d1e4f1",
   "metadata": {},
   "outputs": [],
   "source": [
    "%%time\n",
    "# Get the GTI parameters of each observations to create time intervals for plotting LC\n",
    "t_start = []\n",
    "t_stop = []\n",
    "tot_time = []\n",
    "\n",
    "t_start_short = []\n",
    "t_stop_short = []\n",
    "\n",
    "for obs in observations_wob:\n",
    "    gti = obs.gti\n",
    "    t_start.append(gti.time_start[0])\n",
    "    t_stop.append(gti.time_stop[0])\n",
    "    tot_time.append(gti.time_sum.value)\n",
    "        \n",
    "t_start = np.sort(np.array(t_start))\n",
    "t_stop = np.sort(np.array(t_stop))\n",
    "tot_time = np.array(tot_time)\n",
    "\n",
    "t_start = Time(t_start)\n",
    "t_stop = Time(t_stop)\n",
    "\n",
    "t_day = np.unique(np.rint(t_start.mjd))\n",
    "\n",
    "# To make the range night-wise, keep the MJD range in half integral values\n",
    "t_range = [Time([t-0.5, t+0.5], format=\"mjd\", scale=\"utc\") for t in t_day]"
   ]
  },
  {
   "cell_type": "markdown",
   "id": "29ee4d2f",
   "metadata": {},
   "source": [
    "# Basemap geometries"
   ]
  },
  {
   "cell_type": "code",
   "execution_count": null,
   "id": "1e82c915",
   "metadata": {},
   "outputs": [],
   "source": [
    "on_region = PointSkyRegion(target_position)  ## Need to use PointSkyRegion for energy-dependant theta cut!!!\n",
    "\n",
    "# This will create the base geometry in which to bin the events based on their reconstructed positions\n",
    "on_geom = RegionGeom.create(\n",
    "    on_region, \n",
    "    axes=[energy_axis]\n",
    ")"
   ]
  },
  {
   "cell_type": "markdown",
   "id": "ebd23145",
   "metadata": {},
   "source": [
    "# Data Reduction"
   ]
  },
  {
   "cell_type": "code",
   "execution_count": null,
   "id": "78ec7703",
   "metadata": {},
   "outputs": [],
   "source": [
    "# Create some Dataset and Data Reduction Makers\n",
    "# geom is the target geometry in reco energy for counts and background maps\n",
    "# energy_axis_true is the true energy axis for the IRF maps\n",
    "dataset_empty = SpectrumDataset.create(\n",
    "    geom=on_geom, \n",
    "    energy_axis_true=energy_axis_true\n",
    ")\n",
    "# When not including a PSF IRF, put the containment_correction as False\n",
    "dataset_maker = SpectrumDatasetMaker(\n",
    "    containment_correction=False, \n",
    "    selection=[\"counts\", \"exposure\", \"edisp\"]\n",
    ")"
   ]
  },
  {
   "cell_type": "code",
   "execution_count": null,
   "id": "1770806f",
   "metadata": {},
   "outputs": [],
   "source": [
    "# The following makers can be tuned and played to check the final Dataset to be used.\n",
    "# Select the necessary number and size of the OFF regions, to be chosen by this method\n",
    "\n",
    "wobble_off_regions = 3\n",
    "\n",
    "region_finder = WobbleRegionsFinder(n_off_regions=wobble_off_regions)\n",
    "bkg_maker = ReflectedRegionsBackgroundMaker(region_finder)"
   ]
  },
  {
   "cell_type": "code",
   "execution_count": null,
   "id": "5737434d",
   "metadata": {},
   "outputs": [],
   "source": [
    "%%time\n",
    "# The final object will be stored as a Datasets object\n",
    "datasets = Datasets()\n",
    "i=0\n",
    "for obs_id, observation in zip(wob_obs_list.data, observations_wob):\n",
    "    dataset = dataset_maker.run(\n",
    "        dataset_empty.copy(name=str(obs_id)), \n",
    "        observation\n",
    "    )\n",
    "    print(i, 'obs_id:', obs_id)\n",
    "    \n",
    "    i+=1\n",
    "    dataset_on_off = bkg_maker.run(\n",
    "        dataset=dataset, \n",
    "        observation=observation\n",
    "    )\n",
    "    \n",
    "    datasets.append(dataset_on_off)"
   ]
  },
  {
   "cell_type": "code",
   "execution_count": null,
   "id": "e89ef55c",
   "metadata": {},
   "outputs": [],
   "source": [
    "plt.figure()\n",
    "#ax = counts.plot(cmap=\"viridis\")\n",
    "ax = exclusion_mask.plot()\n",
    "on_geom.plot_region(ax =ax,kwargs_point={\"color\": \"k\", \"marker\": \"*\"})\n",
    "plot_spectrum_datasets_off_regions(ax=ax,datasets=datasets)"
   ]
  },
  {
   "cell_type": "markdown",
   "id": "f3e125f2",
   "metadata": {},
   "source": [
    "# Plots"
   ]
  },
  {
   "cell_type": "code",
   "execution_count": null,
   "id": "8d75bd2a",
   "metadata": {},
   "outputs": [],
   "source": [
    "# Plot temporal evolution of excess events and significance value\n",
    "plt.figure(figsize=(18,5))\n",
    "plt.subplot(131)\n",
    "plt.plot(\n",
    "    np.sqrt(info_table[\"livetime\"].to(\"h\")), info_table[\"counts\"], \n",
    "    marker=\"o\", ls=\"none\", label=\"counts\"\n",
    ")\n",
    "plt.plot(\n",
    "    np.sqrt(info_table[\"livetime\"].to(\"h\")), info_table[\"background\"], \n",
    "    marker=\"o\", ls=\"none\", alpha=0.4, label=\"background\"\n",
    ")\n",
    "#plt.plot(info_table[\"livetime\"].to(\"h\")[-1:1], info_table[\"excess\"][-1:1], 'r')\n",
    "plt.xlabel(\"Sqrt Livetime h^(1/2)\")\n",
    "plt.ylabel(\"Counts\")\n",
    "plt.grid()\n",
    "plt.legend()\n",
    "plt.yscale(\"log\")\n",
    "plt.title('Counts/Background vs Square root of Livetime')\n",
    "\n",
    "plt.subplot(132)\n",
    "plt.plot(\n",
    "    np.sqrt(info_table[\"livetime\"].to(\"h\")), info_table[\"excess\"], marker=\"o\", ls=\"none\"\n",
    ")\n",
    "#plt.plot(info_table[\"livetime\"].to(\"h\")[-1:1], info_table[\"excess\"][-1:1], 'r')\n",
    "plt.xlabel(\"Sqrt Livetime h^(1/2)\")\n",
    "plt.ylabel(\"Excess\")\n",
    "plt.grid()\n",
    "plt.title('Excess vs Square root of Livetime')\n",
    "\n",
    "plt.subplot(133)\n",
    "plt.plot(\n",
    "    np.sqrt(info_table[\"livetime\"].to(\"h\")),\n",
    "    info_table[\"sqrt_ts\"],\n",
    "    marker=\"o\",\n",
    "    ls=\"none\",\n",
    ")\n",
    "plt.grid()\n",
    "plt.xlabel(\"Sqrt Livetime h^(1/2)\")\n",
    "plt.ylabel(\"sqrt_ts\")\n",
    "plt.title('Significance vs Square root of Livetime')\n",
    "plt.subplots_adjust(wspace=0.5)"
   ]
  },
  {
   "cell_type": "code",
   "execution_count": null,
   "id": "86fdef1f",
   "metadata": {},
   "outputs": [],
   "source": [
    "## Shold be able to check the lima sig and s/b stuff here?"
   ]
  },
  {
   "cell_type": "markdown",
   "id": "a422325a",
   "metadata": {},
   "source": [
    "# Further Analysis"
   ]
  },
  {
   "cell_type": "code",
   "execution_count": null,
   "id": "498b859d",
   "metadata": {},
   "outputs": [],
   "source": [
    "stacked_dataset = datasets.stack_reduce()"
   ]
  },
  {
   "cell_type": "code",
   "execution_count": null,
   "id": "fcd81df9",
   "metadata": {},
   "outputs": [],
   "source": []
  },
  {
   "cell_type": "code",
   "execution_count": null,
   "id": "513495ff",
   "metadata": {},
   "outputs": [],
   "source": []
  },
  {
   "cell_type": "code",
   "execution_count": null,
   "id": "5fd4c2d9",
   "metadata": {},
   "outputs": [],
   "source": []
  }
 ],
 "metadata": {
  "kernelspec": {
   "display_name": "Environment (conda_gammapy_v1.0.1)",
   "language": "python",
   "name": "conda_gammapy_v1.0.1"
  },
  "language_info": {
   "codemirror_mode": {
    "name": "ipython",
    "version": 3
   },
   "file_extension": ".py",
   "mimetype": "text/x-python",
   "name": "python",
   "nbconvert_exporter": "python",
   "pygments_lexer": "ipython3",
   "version": "3.11.3"
  }
 },
 "nbformat": 4,
 "nbformat_minor": 5
}
